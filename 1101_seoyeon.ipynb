{
  "nbformat": 4,
  "nbformat_minor": 0,
  "metadata": {
    "colab": {
      "name": "1101_seoyeon.ipynb",
      "provenance": [],
      "collapsed_sections": []
    },
    "kernelspec": {
      "name": "python3",
      "display_name": "Python 3"
    },
    "language_info": {
      "name": "python"
    }
  },
  "cells": [
    {
      "cell_type": "code",
      "metadata": {
        "id": "6uvMSd3T7WuC"
      },
      "source": [
        "import numpy as np"
      ],
      "execution_count": 4,
      "outputs": []
    },
    {
      "cell_type": "markdown",
      "metadata": {
        "id": "f9yoGEK_6Pqv"
      },
      "source": [
        "# Problem 1)"
      ]
    },
    {
      "cell_type": "code",
      "metadata": {
        "id": "d0FnyhC95l5y"
      },
      "source": [
        "# MNIST 데이터셋 로딩\n",
        "from sklearn.datasets import fetch_openml\n",
        "mnist = fetch_openml('mnist_784', version=1, as_frame=False)"
      ],
      "execution_count": 5,
      "outputs": []
    },
    {
      "cell_type": "code",
      "metadata": {
        "id": "_KkbsGQQ6O_8"
      },
      "source": [
        "X, y = mnist[\"data\"], mnist[\"target\"]\n",
        "y = y.astype(np.uint8)"
      ],
      "execution_count": 6,
      "outputs": []
    },
    {
      "cell_type": "code",
      "metadata": {
        "id": "FbBeRnG86Ojv"
      },
      "source": [
        "X_train, X_test, y_train, y_test = X[:60000], X[60000:], y[:60000], y[60000:]"
      ],
      "execution_count": 7,
      "outputs": []
    },
    {
      "cell_type": "code",
      "metadata": {
        "colab": {
          "base_uri": "https://localhost:8080/"
        },
        "id": "LpzPGvP17OMc",
        "outputId": "f69f1579-af0e-4bdf-f3e3-52692c579216"
      },
      "source": [
        "from sklearn.neighbors import KNeighborsClassifier\n",
        "knn_clf = KNeighborsClassifier()\n",
        "knn_clf.fit(X_train, y_train)"
      ],
      "execution_count": null,
      "outputs": [
        {
          "output_type": "execute_result",
          "data": {
            "text/plain": [
              "KNeighborsClassifier(algorithm='auto', leaf_size=30, metric='minkowski',\n",
              "                     metric_params=None, n_jobs=None, n_neighbors=5, p=2,\n",
              "                     weights='uniform')"
            ]
          },
          "metadata": {},
          "execution_count": 13
        }
      ]
    },
    {
      "cell_type": "code",
      "metadata": {
        "id": "N0OTm4Cp7-jM"
      },
      "source": [
        "from sklearn.metrics import accuracy_score\n",
        "y_pred = knn_clf.predict(X_test)\n",
        "accuracy_score(y_test, y_pred)"
      ],
      "execution_count": null,
      "outputs": []
    },
    {
      "cell_type": "markdown",
      "metadata": {
        "id": "yva2MRhs8kW0"
      },
      "source": [
        "* 파라미터 튜닝"
      ]
    },
    {
      "cell_type": "code",
      "metadata": {
        "id": "qp419n2x8J8c"
      },
      "source": [
        "from sklearn.model_selection import GridSearchCV\n",
        "param_grid = [{'weights': [\"uniform\", \"distance\"], 'n_neighbors': [3, 4, 5]}]\n",
        "knn_clf = KNeighborsClassifier()\n",
        "knn_grid = GridSearchCV(knn_clf, param_grid, cv=5, verbose=3)\n",
        "knn_grid.fit(X_train, y_train)"
      ],
      "execution_count": null,
      "outputs": []
    },
    {
      "cell_type": "code",
      "metadata": {
        "id": "2ESCJcEy9D1I"
      },
      "source": [
        "from sklearn.metrics import accuracy_score\n",
        "y_pred = grid_search.predict(X_test)\n",
        "accuracy_score(y_test, y_pred)"
      ],
      "execution_count": null,
      "outputs": []
    },
    {
      "cell_type": "markdown",
      "metadata": {
        "id": "i6Or24-V8QW9"
      },
      "source": [
        "# Problem 2)"
      ]
    },
    {
      "cell_type": "code",
      "metadata": {
        "id": "fXuc9fld8R73"
      },
      "source": [
        "from scipy.ndimage.interpolation import shift\n",
        "\n",
        "def shift_image(image, dx, dy):\n",
        "  # 각 그림은 28*28 픽셀로 이루어져 있음\n",
        "    image = image.reshape((28, 28))\n",
        "  # 그림을 각각 옆으로 dx만큼, 아래로 dy 만큼 이동시킨다. \n",
        "    shifted_image = shift(image, [dy, dx], cval=0, mode=\"constant\")\n",
        "  # 앞서, 형태를 2차원으로 바꿨으므로, 다시 1차원으로 바꾼다.\n",
        "    return shifted_image.reshape([-1])"
      ],
      "execution_count": 8,
      "outputs": []
    },
    {
      "cell_type": "markdown",
      "metadata": {
        "id": "SICk0kE7FFTW"
      },
      "source": [
        "1)  한 픽셀 이동시키기"
      ]
    },
    {
      "cell_type": "code",
      "metadata": {
        "id": "yzqFR4CiFUDY"
      },
      "source": [
        "import matplotlib.pyplot as plt"
      ],
      "execution_count": 9,
      "outputs": []
    },
    {
      "cell_type": "code",
      "metadata": {
        "colab": {
          "base_uri": "https://localhost:8080/",
          "height": 228
        },
        "id": "TIqoti2KFE7Q",
        "outputId": "7cfa046d-55f5-4117-a5e9-666eef3fc0dc"
      },
      "source": [
        "image = X_train[100] \n",
        "# 아래로 5픽셀 이동시킨다.\n",
        "shifted_image_down = shift_image(image, 0, 5)\n",
        "# 왼쪽으로 5픽셀 이동시킨다.\n",
        "shifted_image_left = shift_image(image, -5, 0)\n",
        "\n",
        "# 28*28 픽셀이므로, 자료를 reshape(28,28)하여 그린다.\n",
        "plt.figure(figsize=(12,3))\n",
        "plt.subplot(131)\n",
        "plt.title(\"Original\", fontsize=14)\n",
        "plt.imshow(image.reshape(28, 28), interpolation=\"nearest\", cmap=\"Greys\")\n",
        "plt.subplot(132)\n",
        "plt.title(\"Shifted down\", fontsize=14)\n",
        "plt.imshow(shifted_image_down.reshape(28, 28), interpolation=\"nearest\", cmap=\"Greys\")\n",
        "plt.subplot(133)\n",
        "plt.title(\"Shifted left\", fontsize=14)\n",
        "plt.imshow(shifted_image_left.reshape(28, 28), interpolation=\"nearest\", cmap=\"Greys\")\n",
        "plt.show()"
      ],
      "execution_count": 10,
      "outputs": [
        {
          "output_type": "display_data",
          "data": {
            "image/png": "[encoded data removed]",
            "text/plain": [
              "<Figure size 864x216 with 3 Axes>"
            ]
          },
          "metadata": {
            "needs_background": "light"
          }
        }
      ]
    },
    {
      "cell_type": "code",
      "metadata": {
        "id": "T9WJMISfExzz"
      },
      "source": [
        "# train 자료 속 이미지와 라벨을 변수에 저장한다. \n",
        "X_train_augmented = [image for image in X_train]\n",
        "y_train_augmented = [label for label in y_train]\n",
        "\n",
        "# 네 개의 방향으로 각각 이동시킨 후, 생성한 변수에 저장한다.\n",
        "for dx, dy in ((1, 0), (-1, 0), (0, 1), (0, -1)):\n",
        "    for image, label in zip(X_train, y_train):\n",
        "        X_train_augmented.append(shift_image(image, dx, dy)) #이미지 이동\n",
        "        y_train_augmented.append(label) #이동 후, 저장\n",
        "\n",
        "# 모델링에 자료를 사용하기 위해 각각 배열로 저장한다.\n",
        "X_train_augmented = np.array(X_train_augmented)\n",
        "y_train_augmented = np.array(y_train_augmented)"
      ],
      "execution_count": 11,
      "outputs": []
    },
    {
      "cell_type": "markdown",
      "metadata": {
        "id": "icCTeoPPGRic"
      },
      "source": [
        "* shape를 통해 자료 수의 증가를 파악할 수 있다. \n",
        "* 5배로 자료가 증식된다."
      ]
    },
    {
      "cell_type": "code",
      "metadata": {
        "colab": {
          "base_uri": "https://localhost:8080/"
        },
        "id": "5ag0OT6dF94T",
        "outputId": "bb59dfaa-9b5a-44a8-ec80-e2f77601c909"
      },
      "source": [
        "X_train.shape"
      ],
      "execution_count": 12,
      "outputs": [
        {
          "output_type": "execute_result",
          "data": {
            "text/plain": [
              "(60000, 784)"
            ]
          },
          "metadata": {},
          "execution_count": 12
        }
      ]
    },
    {
      "cell_type": "code",
      "metadata": {
        "colab": {
          "base_uri": "https://localhost:8080/"
        },
        "id": "aUxVXQuzGKyq",
        "outputId": "26328259-704f-4c93-e49f-4192a498f9b4"
      },
      "source": [
        "X_train_augmented.shape"
      ],
      "execution_count": 13,
      "outputs": [
        {
          "output_type": "execute_result",
          "data": {
            "text/plain": [
              "(300000, 784)"
            ]
          },
          "metadata": {},
          "execution_count": 13
        }
      ]
    },
    {
      "cell_type": "markdown",
      "metadata": {
        "id": "kMboWnW0Gl4D"
      },
      "source": [
        "* 자료를 무작위로 섞는다."
      ]
    },
    {
      "cell_type": "code",
      "metadata": {
        "id": "YwDl0zXsGkvz"
      },
      "source": [
        "# permutation은 array를 복사해서 셔플을 한다\n",
        "shuffle_idx = np.random.permutation(len(X_train_augmented))\n",
        "X_train_augmented = X_train_augmented[shuffle_idx]\n",
        "y_train_augmented = y_train_augmented[shuffle_idx]"
      ],
      "execution_count": 14,
      "outputs": []
    },
    {
      "cell_type": "markdown",
      "metadata": {
        "id": "5SkE-SawGalm"
      },
      "source": [
        "2) 최적 모형에 적용하기. (실행 시간이 매우 길어서, 코드만 작성.)"
      ]
    },
    {
      "cell_type": "code",
      "metadata": {
        "id": "tfZoUksqGZhS"
      },
      "source": [
        "knn_clf = KNeighborsClassifier(**grid_search.best_params_)"
      ],
      "execution_count": null,
      "outputs": []
    },
    {
      "cell_type": "code",
      "metadata": {
        "id": "Lr6_L2vgGMaV"
      },
      "source": [
        "knn_clf.fit(X_train_augmented, y_train_augmented)\n",
        "y_pred = knn_clf.predict(X_test)\n",
        "accuracy_score(y_test, y_pred)"
      ],
      "execution_count": null,
      "outputs": []
    },
    {
      "cell_type": "markdown",
      "metadata": {
        "id": "1NhjS23AHP3m"
      },
      "source": [
        "=> 코드를 실행할 경우, \n",
        "간단히 데이터를 증식해서 0.5% 정확도를 높아진다."
      ]
    }
  ]
}