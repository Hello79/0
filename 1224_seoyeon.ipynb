{
  "nbformat": 4,
  "nbformat_minor": 0,
  "metadata": {
    "colab": {
      "name": "1224_seoyeon.ipynb",
      "provenance": [],
      "collapsed_sections": []
    },
    "kernelspec": {
      "name": "python3",
      "display_name": "Python 3"
    },
    "language_info": {
      "name": "python"
    }
  },
  "cells": [
    {
      "cell_type": "markdown",
      "metadata": {
        "id": "28ZlnWKbi-fL"
      },
      "source": [
        "# 3. MNIST 데이터셋을 로드하고 훈련세트와 테스트세트로 분할하겠습니다."
      ]
    },
    {
      "cell_type": "markdown",
      "metadata": {
        "id": "NaWuyONJk_6l"
      },
      "source": [
        "# 모듈 설정 및 데이터 불러오기"
      ]
    },
    {
      "cell_type": "code",
      "metadata": {
        "id": "vC5y5w5TjJeb"
      },
      "source": [
        "# 파이썬 ≥3.5 필수\n",
        "import sys\n",
        "assert sys.version_info >= (3, 5)\n",
        "\n",
        "# 사이킷런 ≥0.20 필수\n",
        "import sklearn\n",
        "assert sklearn.__version__ >= \"0.20\"\n",
        "\n",
        "# 공통 모듈 임포트\n",
        "import numpy as np\n",
        "import os\n",
        "\n",
        "# 노트북 실행 결과를 동일하게 유지하기 위해\n",
        "np.random.seed(42)\n",
        "\n",
        "# MNIST 불러오기\n",
        "from sklearn.datasets import fetch_openml\n",
        "\n",
        "mnist = fetch_openml('mnist_784', version=1, as_frame=False)\n",
        "mnist.target = mnist.target.astype(np.uint8)"
      ],
      "execution_count": 1,
      "outputs": []
    },
    {
      "cell_type": "markdown",
      "metadata": {
        "id": "sE46F301lsCK"
      },
      "source": [
        "# 훈련세트와 테스트세트로 분할"
      ]
    },
    {
      "cell_type": "code",
      "metadata": {
        "id": "3FCer4bbjI_E"
      },
      "source": [
        "# 첫 60000개는 훈련을 위한 샘플, 나머지 10000개는 테스트용으로 분할\n",
        "X_train = mnist['data'][:60000]\n",
        "y_train = mnist['target'][:60000]\n",
        "\n",
        "X_test = mnist['data'][60000:]\n",
        "y_test = mnist['target'][60000:]"
      ],
      "execution_count": 2,
      "outputs": []
    },
    {
      "cell_type": "markdown",
      "metadata": {
        "id": "1xe-EAtul6hi"
      },
      "source": [
        "## 3.1 이 데이터셋을 랜덤 포레스트 분류기로 훈련시키고 시간이 얼마나 오래걸리는지 시간을 잰 후, 테스트 세트로 만들어진 모델의 정확도를 평가합니다."
      ]
    },
    {
      "cell_type": "code",
      "metadata": {
        "id": "0onbkszcmNPQ"
      },
      "source": [
        "# 랜덤포레스트로 훈련시키는 코드\n",
        "from sklearn.ensemble import RandomForestClassifier\n",
        "\n",
        "rnd_clf = RandomForestClassifier(n_estimators=100, random_state=42)"
      ],
      "execution_count": 3,
      "outputs": []
    },
    {
      "cell_type": "code",
      "metadata": {
        "colab": {
          "base_uri": "https://localhost:8080/"
        },
        "id": "MTY66DlXmWGv",
        "outputId": "b86bdbef-6204-4bd5-ed47-3d58605fe247"
      },
      "source": [
        "# 훈련 시간을 재는 코드입니다.\n",
        "import time\n",
        "\n",
        "t0 = time.time()\n",
        "rnd_clf.fit(X_train, y_train)\n",
        "t1 = time.time()\n",
        "\n",
        "print(\"훈련 시간: {:.2f}s\".format(t1 - t0))"
      ],
      "execution_count": 4,
      "outputs": [
        {
          "output_type": "stream",
          "name": "stdout",
          "text": [
            "훈련 시간: 43.65s\n"
          ]
        }
      ]
    },
    {
      "cell_type": "code",
      "metadata": {
        "colab": {
          "base_uri": "https://localhost:8080/"
        },
        "id": "klCgXFh3mz-H",
        "outputId": "a5490508-25e4-4574-92e7-b29180fff792"
      },
      "source": [
        "# 정확도 평가 코드입니다.\n",
        "from sklearn.metrics import accuracy_score\n",
        "\n",
        "y_pred = rnd_clf.predict(X_test)\n",
        "accuracy_score(y_test, y_pred)"
      ],
      "execution_count": 5,
      "outputs": [
        {
          "output_type": "execute_result",
          "data": {
            "text/plain": [
              "0.9705"
            ]
          },
          "metadata": {},
          "execution_count": 5
        }
      ]
    },
    {
      "cell_type": "markdown",
      "metadata": {
        "id": "tme14Nezm8fI"
      },
      "source": [
        "## 3.2 문제 : 데이터셋을 PCA를 사용해 설명된 분산이 95%가 되도록 차원을 축소하세요"
      ]
    },
    {
      "cell_type": "code",
      "metadata": {
        "id": "6xmHLxA-nGkb"
      },
      "source": [
        "from sklearn.decomposition import PCA\n",
        "\n",
        "pca = PCA(n_components=0.95)\n",
        "X_reduced = pca.fit_transform(X_train)"
      ],
      "execution_count": 6,
      "outputs": []
    },
    {
      "cell_type": "markdown",
      "metadata": {
        "id": "5JHF-cvTnH_t"
      },
      "source": [
        "## 3.3 문제 : 이 축소된 데이터셋에 위와 같이 새로운 랜덤포레스트 분류기를 훈련시키고 얼마나 오래걸리는지 확인합니다. 훈련 시간이 빨라졌나요?"
      ]
    },
    {
      "cell_type": "code",
      "metadata": {
        "id": "aUsCD5QDnhDn"
      },
      "source": [
        "from sklearn.ensemble import RandomForestClassifier\n",
        "\n",
        "rnd_clf = RandomForestClassifier(n_estimators=100, random_state=42)"
      ],
      "execution_count": 7,
      "outputs": []
    },
    {
      "cell_type": "code",
      "metadata": {
        "id": "iJwlAOF2nfiE",
        "colab": {
          "base_uri": "https://localhost:8080/"
        },
        "outputId": "bb3dcbcb-c028-4d05-a1ba-d88bc86ad186"
      },
      "source": [
        "t0 = time.time()\n",
        "rnd_clf.fit(X_reduced, y_train)\n",
        "t1 = time.time()\n",
        "\n",
        "print(\"훈련 시간: {:.2f}s\".format(t1 - t0))"
      ],
      "execution_count": 8,
      "outputs": [
        {
          "output_type": "stream",
          "name": "stdout",
          "text": [
            "훈련 시간: 115.01s\n"
          ]
        }
      ]
    },
    {
      "cell_type": "markdown",
      "source": [
        "=> 훈련 시간이 115.01s로 느려졌다."
      ],
      "metadata": {
        "id": "C0Gkk_jsV9Z2"
      }
    },
    {
      "cell_type": "markdown",
      "metadata": {
        "id": "5akaZqgnnkIZ"
      },
      "source": [
        "## 3.4 문제: 테스트 세트에서 이 분류기의 정확도를 평가해보세요. 이전 분류기와 비교해서 어떤가요?"
      ]
    },
    {
      "cell_type": "code",
      "metadata": {
        "id": "UeShGy29nqrJ",
        "colab": {
          "base_uri": "https://localhost:8080/"
        },
        "outputId": "e5b0b0f8-09c0-4add-9a6f-8caff794d6be"
      },
      "source": [
        "from sklearn.metrics import accuracy_score\n",
        "\n",
        "X_test_reduced = pca.transform(X_test)\n",
        "y_pred = rnd_clf.predict(X_test_reduced)\n",
        "accuracy_score(y_test, y_pred)"
      ],
      "execution_count": 9,
      "outputs": [
        {
          "output_type": "execute_result",
          "data": {
            "text/plain": [
              "0.9481"
            ]
          },
          "metadata": {},
          "execution_count": 9
        }
      ]
    },
    {
      "cell_type": "markdown",
      "source": [
        "=> 정확도가 0.9481로 조금 줄어들었다."
      ],
      "metadata": {
        "id": "8_vCo77FV_sS"
      }
    },
    {
      "cell_type": "markdown",
      "metadata": {
        "id": "1z6q2On3ocXr"
      },
      "source": [
        "## 3.5 소프트 맥스 회귀를 사용해서도 같은 방식으로 실험을 해봅니다."
      ]
    },
    {
      "cell_type": "markdown",
      "source": [
        "LogisticRegression(multi_class=\"multinomial\", solver=\"lbfgs\", random_state=42)\n",
        "* multi_class=\"multinomial\" \n",
        "  * 각 클래스에 대한 softmax 확률값, 크로스 엔트로피 계산을 통해 one-hot 타켓 벡터를 생성하는 식으로 다중분류를 수행.\n",
        "* solver=\"lbfgs\" \n",
        "  * 최적화에 사용할 알고리즘 설정."
      ],
      "metadata": {
        "id": "KwIzIPnwdJAF"
      }
    },
    {
      "cell_type": "markdown",
      "source": [
        "![image.png](data:image/png;base64,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)"
      ],
      "metadata": {
        "id": "XOpQLIkad7Xu"
      }
    },
    {
      "cell_type": "code",
      "metadata": {
        "id": "14CAbbqVojVi",
        "colab": {
          "base_uri": "https://localhost:8080/"
        },
        "outputId": "46782563-db8c-46e0-e110-784f20da6e46"
      },
      "source": [
        "# 차원축소 이전의 코드\n",
        "from sklearn.linear_model import LogisticRegression\n",
        "\n",
        "log_clf = LogisticRegression(multi_class=\"multinomial\", solver=\"lbfgs\", random_state=42)\n",
        "t0 = time.time()\n",
        "log_clf.fit(X_train, y_train)\n",
        "t1 = time.time()"
      ],
      "execution_count": 10,
      "outputs": [
        {
          "output_type": "stream",
          "name": "stderr",
          "text": [
            "/usr/local/lib/python3.7/dist-packages/sklearn/linear_model/_logistic.py:818: ConvergenceWarning: lbfgs failed to converge (status=1):\n",
            "STOP: TOTAL NO. of ITERATIONS REACHED LIMIT.\n",
            "\n",
            "Increase the number of iterations (max_iter) or scale the data as shown in:\n",
            "    https://scikit-learn.org/stable/modules/preprocessing.html\n",
            "Please also refer to the documentation for alternative solver options:\n",
            "    https://scikit-learn.org/stable/modules/linear_model.html#logistic-regression\n",
            "  extra_warning_msg=_LOGISTIC_SOLVER_CONVERGENCE_MSG,\n"
          ]
        }
      ]
    },
    {
      "cell_type": "code",
      "metadata": {
        "id": "H8YQXt91ovnL",
        "colab": {
          "base_uri": "https://localhost:8080/"
        },
        "outputId": "6e10a64e-e669-4f75-be09-f09ac1260132"
      },
      "source": [
        "print(\"훈련 시간: {:.2f}s\".format(t1 - t0))"
      ],
      "execution_count": 11,
      "outputs": [
        {
          "output_type": "stream",
          "name": "stdout",
          "text": [
            "훈련 시간: 30.23s\n"
          ]
        }
      ]
    },
    {
      "cell_type": "code",
      "metadata": {
        "id": "DJMencFdoxIE",
        "colab": {
          "base_uri": "https://localhost:8080/"
        },
        "outputId": "9d07c57e-3ae2-44c1-adac-62bc3e5f4159"
      },
      "source": [
        "y_pred = log_clf.predict(X_test)\n",
        "accuracy_score(y_test, y_pred)"
      ],
      "execution_count": 12,
      "outputs": [
        {
          "output_type": "execute_result",
          "data": {
            "text/plain": [
              "0.9255"
            ]
          },
          "metadata": {},
          "execution_count": 12
        }
      ]
    },
    {
      "cell_type": "markdown",
      "metadata": {
        "id": "_SR8DpJTozQz"
      },
      "source": [
        "## 3.6 문제 : 3.2에서 축소된 데이터 셋을 사용해 소프트맥스 회귀모델을 훈련시켜보세요. 그리고 훈련시간을 확인하세요"
      ]
    },
    {
      "cell_type": "code",
      "metadata": {
        "id": "cj2v-6BzpMW0",
        "colab": {
          "base_uri": "https://localhost:8080/"
        },
        "outputId": "ae741398-f8bf-4690-a1b6-cff2170b450b"
      },
      "source": [
        "log_clf = LogisticRegression(multi_class=\"multinomial\", solver=\"lbfgs\", random_state=42)\n",
        "t0 = time.time()\n",
        "log_clf.fit(X_reduced, y_train)\n",
        "t1 = time.time()"
      ],
      "execution_count": 13,
      "outputs": [
        {
          "output_type": "stream",
          "name": "stderr",
          "text": [
            "/usr/local/lib/python3.7/dist-packages/sklearn/linear_model/_logistic.py:818: ConvergenceWarning: lbfgs failed to converge (status=1):\n",
            "STOP: TOTAL NO. of ITERATIONS REACHED LIMIT.\n",
            "\n",
            "Increase the number of iterations (max_iter) or scale the data as shown in:\n",
            "    https://scikit-learn.org/stable/modules/preprocessing.html\n",
            "Please also refer to the documentation for alternative solver options:\n",
            "    https://scikit-learn.org/stable/modules/linear_model.html#logistic-regression\n",
            "  extra_warning_msg=_LOGISTIC_SOLVER_CONVERGENCE_MSG,\n"
          ]
        }
      ]
    },
    {
      "cell_type": "code",
      "metadata": {
        "id": "ZNjNXE-GpSjz",
        "colab": {
          "base_uri": "https://localhost:8080/"
        },
        "outputId": "2443bab5-8b15-4c59-8822-1fd7acca6f56"
      },
      "source": [
        "print(\"훈련 시간: {:.2f}s\".format(t1 - t0))"
      ],
      "execution_count": 14,
      "outputs": [
        {
          "output_type": "stream",
          "name": "stdout",
          "text": [
            "훈련 시간: 10.62s\n"
          ]
        }
      ]
    },
    {
      "cell_type": "markdown",
      "metadata": {
        "id": "wMy1L2nSpWZm"
      },
      "source": [
        "## 3.7 문제 : 모델의 정확도도 확인해보세요"
      ]
    },
    {
      "cell_type": "code",
      "metadata": {
        "id": "hQtH-9ghpkw3",
        "colab": {
          "base_uri": "https://localhost:8080/"
        },
        "outputId": "eca9f027-39df-4156-a6f5-d3805d1fefad"
      },
      "source": [
        "y_pred = log_clf.predict(X_test_reduced)\n",
        "accuracy_score(y_test, y_pred)"
      ],
      "execution_count": 15,
      "outputs": [
        {
          "output_type": "execute_result",
          "data": {
            "text/plain": [
              "0.9201"
            ]
          },
          "metadata": {},
          "execution_count": 15
        }
      ]
    },
    {
      "cell_type": "markdown",
      "metadata": {
        "id": "55eN4bcItVNl"
      },
      "source": [
        "## 3.8 문제 : 랜덤포레스트 모형의 훈련시간과 정확도, 소프트맥스 모형의 훈련시간과 정확도를 비교해보세요."
      ]
    },
    {
      "cell_type": "markdown",
      "metadata": {
        "id": "FZfgxC2vtW-d"
      },
      "source": [
        "<랜덤포레스트 모형>\n",
        "- 원본 데이터: 훈련 시간: 42.83s / 정확도: 0.9705\n",
        "- 차원 축소 데이터: 훈련 시간: 115.01s / 정확도: 0.9481\n",
        "\n",
        "=> 훈련 시간이 늘어나고, 정확도가 떨어진다.\n",
        "\n",
        "<소프트맥스 모형>\n",
        "- 원본 데이터: 훈련 시간 30.23s / 정확도: 0.9255 \n",
        "- 차원 축소 데이터: 훈련 시간 10.62s / 정확도: 0.9201\n",
        "\n",
        "=> 훈련 시간이 줄어들고, 정확도가 떨어진다.\n",
        "\n",
        "=> 즉, 차원축소로 인한 속도 향상의 대가로, 성능이 조금 감소함을 알 수 있다."
      ]
    }
  ]
}