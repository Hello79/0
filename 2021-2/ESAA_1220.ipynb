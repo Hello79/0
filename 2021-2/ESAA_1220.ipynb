{
  "cells": [
    {
      "cell_type": "markdown",
      "metadata": {
        "id": "BKTkVTyp9VMe"
      },
      "source": [
        "# Chap.8 차원 축소"
      ]
    },
    {
      "cell_type": "code",
      "execution_count": 1,
      "metadata": {
        "id": "MYmF8Owt9VMo"
      },
      "outputs": [],
      "source": [
        "import numpy as np"
      ]
    },
    {
      "cell_type": "markdown",
      "metadata": {
        "id": "9HzlR4219VMq"
      },
      "source": [
        "## 8.3 PCA"
      ]
    },
    {
      "cell_type": "code",
      "execution_count": 2,
      "metadata": {
        "id": "c4ANC1xg9VMr"
      },
      "outputs": [],
      "source": [
        "# simple 3D dataset\n",
        "np.random.seed(4)\n",
        "m = 60\n",
        "w1, w2 = 0.1, 0.3\n",
        "noise = 0.1\n",
        "\n",
        "angles = np.random.rand(m) * 3 * np.pi / 2 - 0.5\n",
        "X = np.empty((m, 3))\n",
        "X[:, 0] = np.cos(angles) + np.sin(angles)/2 + noise * np.random.randn(m) / 2\n",
        "X[:, 1] = np.sin(angles) * 0.7 + noise * np.random.randn(m) / 2\n",
        "X[:, 2] = X[:, 0] * w1 + X[:, 1] * w2 + noise * np.random.randn(m)"
      ]
    },
    {
      "cell_type": "markdown",
      "metadata": {
        "id": "75butqbc9VMt"
      },
      "source": [
        "### 8.3.2 주성분"
      ]
    },
    {
      "cell_type": "code",
      "execution_count": 3,
      "metadata": {
        "id": "mOSXVFUC9VMu"
      },
      "outputs": [],
      "source": [
        "X_centered = X - X.mean(axis=0)\n",
        "U, s, Vt = np.linalg.svd(X_centered)\n",
        "c1 = Vt.T[:, 0]\n",
        "c2 = Vt.T[:, 1]"
      ]
    },
    {
      "cell_type": "markdown",
      "metadata": {
        "id": "fY_5te729VMv"
      },
      "source": [
        "### 8.3.3 d차원으로 투영하기"
      ]
    },
    {
      "cell_type": "code",
      "execution_count": 4,
      "metadata": {
        "id": "w9fQeL1d9VMw"
      },
      "outputs": [],
      "source": [
        "W2 = Vt.T[:, :2]\n",
        "X2D = X_centered.dot(W2)"
      ]
    },
    {
      "cell_type": "markdown",
      "metadata": {
        "id": "FaGrkcJh9VMy"
      },
      "source": [
        "### 8.3.4 사이킷런 사용하기"
      ]
    },
    {
      "cell_type": "code",
      "execution_count": 5,
      "metadata": {
        "id": "7aVy820J9VM0"
      },
      "outputs": [],
      "source": [
        "from sklearn.decomposition import PCA\n",
        "\n",
        "pca = PCA(n_components=2)\n",
        "X2D = pca.fit_transform(X)"
      ]
    },
    {
      "cell_type": "markdown",
      "metadata": {
        "id": "6ROwmvPC9VM1"
      },
      "source": [
        "### 8.3.5 설명된 분산의 비율"
      ]
    },
    {
      "cell_type": "code",
      "execution_count": 6,
      "metadata": {
        "colab": {
          "base_uri": "https://localhost:8080/"
        },
        "id": "3NixG55j9VM2",
        "outputId": "a403b9e6-048c-4d78-ba18-031a213df638"
      },
      "outputs": [
        {
          "output_type": "execute_result",
          "data": {
            "text/plain": [
              "array([0.84248607, 0.14631839])"
            ]
          },
          "metadata": {},
          "execution_count": 6
        }
      ],
      "source": [
        "pca.explained_variance_ratio_"
      ]
    },
    {
      "cell_type": "markdown",
      "metadata": {
        "id": "hBqJ6lMJ9VM3"
      },
      "source": [
        "### 8.3.6 적절한 차원 수 선택하기"
      ]
    },
    {
      "cell_type": "code",
      "execution_count": 7,
      "metadata": {
        "id": "fnYs7We29VM4"
      },
      "outputs": [],
      "source": [
        "from sklearn.datasets import fetch_openml\n",
        "\n",
        "mnist = fetch_openml('mnist_784', version=1, as_frame=False)\n",
        "mnist.target = mnist.target.astype(np.uint8)\n",
        "\n",
        "from sklearn.model_selection import train_test_split\n",
        "\n",
        "X = mnist[\"data\"]\n",
        "y = mnist[\"target\"]\n",
        "\n",
        "X_train, X_test, y_train, y_test = train_test_split(X, y)"
      ]
    },
    {
      "cell_type": "code",
      "execution_count": 8,
      "metadata": {
        "id": "TkovcV1w9VM5"
      },
      "outputs": [],
      "source": [
        "pca = PCA()\n",
        "pca.fit(X_train)\n",
        "cumsum = np.cumsum(pca.explained_variance_ratio_)\n",
        "d = np.argmax(cumsum >= 0.95) + 1"
      ]
    },
    {
      "cell_type": "code",
      "execution_count": 9,
      "metadata": {
        "id": "gybGRVrc9VM5"
      },
      "outputs": [],
      "source": [
        "pca = PCA(n_components=0.95)\n",
        "X_reduced = pca.fit_transform(X_train)"
      ]
    },
    {
      "cell_type": "markdown",
      "metadata": {
        "id": "R87dcmfs9VM6"
      },
      "source": [
        "### 8.3.7 압축을 위한 PCA"
      ]
    },
    {
      "cell_type": "code",
      "execution_count": 10,
      "metadata": {
        "id": "mqtZA39_9VM6"
      },
      "outputs": [],
      "source": [
        "pca = PCA(n_components=154)\n",
        "X_reduced = pca.fit_transform(X_train)\n",
        "X_recovered = pca.inverse_transform(X_reduced)"
      ]
    },
    {
      "cell_type": "markdown",
      "metadata": {
        "id": "Zv36INX19VM7"
      },
      "source": [
        "### 8.3.8 랜덤 PCA"
      ]
    },
    {
      "cell_type": "code",
      "execution_count": 11,
      "metadata": {
        "id": "1ipMYzd09VM7"
      },
      "outputs": [],
      "source": [
        "rnd_pca = PCA(n_components=154, svd_solver=\"randomized\", random_state=42)\n",
        "X_reduced = rnd_pca.fit_transform(X_train)"
      ]
    },
    {
      "cell_type": "markdown",
      "metadata": {
        "id": "aRVT7dk89VM8"
      },
      "source": [
        "### 8.3.9 점진적 PCA"
      ]
    },
    {
      "cell_type": "code",
      "execution_count": 12,
      "metadata": {
        "colab": {
          "base_uri": "https://localhost:8080/"
        },
        "id": "Ep6ksZlQ9VM8",
        "outputId": "91d652ee-915f-40bc-f67d-0516dbba3409"
      },
      "outputs": [
        {
          "output_type": "stream",
          "name": "stdout",
          "text": [
            "...................................................................................................."
          ]
        }
      ],
      "source": [
        "from sklearn.decomposition import IncrementalPCA\n",
        "\n",
        "n_batches = 100\n",
        "inc_pca = IncrementalPCA(n_components=154)\n",
        "for X_batch in np.array_split(X_train, n_batches):\n",
        "    print(\".\", end=\"\") \n",
        "    inc_pca.partial_fit(X_batch)\n",
        "\n",
        "X_reduced = inc_pca.transform(X_train)"
      ]
    },
    {
      "cell_type": "markdown",
      "metadata": {
        "id": "nF--YqS79VM-"
      },
      "source": [
        "## 8.4 커널 PCA"
      ]
    },
    {
      "cell_type": "code",
      "execution_count": 13,
      "metadata": {
        "id": "HJjHMKqa9VM-"
      },
      "outputs": [],
      "source": [
        "from sklearn.datasets import make_swiss_roll\n",
        "\n",
        "X, t = make_swiss_roll(n_samples=1000, noise=0.2, random_state=42)"
      ]
    },
    {
      "cell_type": "code",
      "execution_count": 14,
      "metadata": {
        "id": "9-OloHq29VM_"
      },
      "outputs": [],
      "source": [
        "from sklearn.decomposition import KernelPCA\n",
        "\n",
        "rbf_pca = KernelPCA(n_components = 2, kernel=\"rbf\", gamma=0.04)\n",
        "X_reduced = rbf_pca.fit_transform(X)"
      ]
    },
    {
      "cell_type": "markdown",
      "metadata": {
        "id": "KSKAUXST9VM_"
      },
      "source": [
        "### 8.4.1 커널 선택과 하이퍼파라미터 튜닝"
      ]
    },
    {
      "cell_type": "code",
      "execution_count": 15,
      "metadata": {
        "colab": {
          "base_uri": "https://localhost:8080/"
        },
        "id": "5d92IX7P9VM_",
        "outputId": "7a02f7d9-a937-4cb8-b965-32962cf8691a"
      },
      "outputs": [
        {
          "output_type": "execute_result",
          "data": {
            "text/plain": [
              "GridSearchCV(cv=3,\n",
              "             estimator=Pipeline(steps=[('kpca', KernelPCA(n_components=2)),\n",
              "                                       ('log_reg', LogisticRegression())]),\n",
              "             param_grid=[{'kpca__gamma': array([0.03      , 0.03222222, 0.03444444, 0.03666667, 0.03888889,\n",
              "       0.04111111, 0.04333333, 0.04555556, 0.04777778, 0.05      ]),\n",
              "                          'kpca__kernel': ['rbf', 'sigmoid']}])"
            ]
          },
          "metadata": {},
          "execution_count": 15
        }
      ],
      "source": [
        "from sklearn.model_selection import GridSearchCV\n",
        "from sklearn.linear_model import LogisticRegression\n",
        "from sklearn.pipeline import Pipeline\n",
        "\n",
        "X, t = make_swiss_roll(n_samples=1000, noise=0.2, random_state=42)\n",
        "y = t > 6.9\n",
        "\n",
        "clf = Pipeline([\n",
        "        (\"kpca\", KernelPCA(n_components=2)),\n",
        "        (\"log_reg\", LogisticRegression(solver=\"lbfgs\"))\n",
        "    ])\n",
        "\n",
        "param_grid = [{\n",
        "        \"kpca__gamma\": np.linspace(0.03, 0.05, 10),\n",
        "        \"kpca__kernel\": [\"rbf\", \"sigmoid\"]\n",
        "    }]\n",
        "\n",
        "grid_search = GridSearchCV(clf, param_grid, cv=3)\n",
        "grid_search.fit(X, y)\n"
      ]
    },
    {
      "cell_type": "code",
      "execution_count": 16,
      "metadata": {
        "colab": {
          "base_uri": "https://localhost:8080/"
        },
        "id": "N0Kx8c9p9VNA",
        "outputId": "17a57654-2e4b-4126-c06d-d5cd53f9e92f"
      },
      "outputs": [
        {
          "output_type": "stream",
          "name": "stdout",
          "text": [
            "{'kpca__gamma': 0.043333333333333335, 'kpca__kernel': 'rbf'}\n"
          ]
        }
      ],
      "source": [
        "print(grid_search.best_params_)"
      ]
    },
    {
      "cell_type": "code",
      "execution_count": 17,
      "metadata": {
        "id": "yuZnVQ6c9VNB"
      },
      "outputs": [],
      "source": [
        "rbf_pca = KernelPCA(n_components = 2, kernel=\"rbf\", gamma=0.0433,\n",
        "                    fit_inverse_transform=True)\n",
        "X_reduced = rbf_pca.fit_transform(X)\n",
        "X_preimage = rbf_pca.inverse_transform(X_reduced)"
      ]
    },
    {
      "cell_type": "code",
      "execution_count": 18,
      "metadata": {
        "colab": {
          "base_uri": "https://localhost:8080/"
        },
        "id": "LiW-jKUS9VNC",
        "outputId": "9b053203-cfca-4afb-84aa-bbddabb123dc"
      },
      "outputs": [
        {
          "output_type": "execute_result",
          "data": {
            "text/plain": [
              "32.786308795766125"
            ]
          },
          "metadata": {},
          "execution_count": 18
        }
      ],
      "source": [
        "from sklearn.metrics import mean_squared_error\n",
        "\n",
        "mean_squared_error(X, X_preimage)"
      ]
    },
    {
      "cell_type": "markdown",
      "metadata": {
        "id": "J84eF0qZ9VNC"
      },
      "source": [
        "## 8.5 LLE"
      ]
    },
    {
      "cell_type": "code",
      "execution_count": 19,
      "metadata": {
        "id": "erb39TPN9VND"
      },
      "outputs": [],
      "source": [
        "X, t = make_swiss_roll(n_samples=1000, noise=0.2, random_state=41)"
      ]
    },
    {
      "cell_type": "code",
      "execution_count": 20,
      "metadata": {
        "id": "7Gcz1J2H9VND"
      },
      "outputs": [],
      "source": [
        "from sklearn.manifold import LocallyLinearEmbedding\n",
        "\n",
        "lle = LocallyLinearEmbedding(n_components=2, n_neighbors=10, random_state=42)\n",
        "X_reduced = lle.fit_transform(X)"
      ]
    }
  ],
  "metadata": {
    "kernelspec": {
      "display_name": "Python 3",
      "language": "python",
      "name": "python3"
    },
    "language_info": {
      "codemirror_mode": {
        "name": "ipython",
        "version": 3
      },
      "file_extension": ".py",
      "mimetype": "text/x-python",
      "name": "python",
      "nbconvert_exporter": "python",
      "pygments_lexer": "ipython3",
      "version": "3.8.5"
    },
    "colab": {
      "name": "1220_ESAA.ipynb",
      "provenance": []
    }
  },
  "nbformat": 4,
  "nbformat_minor": 0
}