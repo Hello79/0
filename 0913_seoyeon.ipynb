{
  "nbformat": 4,
  "nbformat_minor": 0,
  "metadata": {
    "colab": {
      "name": "0913_seoyeon.ipynb",
      "private_outputs": true,
      "provenance": [],
      "collapsed_sections": []
    },
    "kernelspec": {
      "name": "python3",
      "display_name": "Python 3"
    },
    "language_info": {
      "name": "python"
    }
  },
  "cells": [
    {
      "cell_type": "code",
      "metadata": {
        "id": "Z6zm0tces3j7"
      },
      "source": [
        "from google.colab import drive\n",
        "drive.mount('/content/drive')"
      ],
      "execution_count": null,
      "outputs": []
    },
    {
      "cell_type": "markdown",
      "metadata": {
        "id": "zLUqIqzqqF72"
      },
      "source": [
        "# 1. NLP 전처리"
      ]
    },
    {
      "cell_type": "markdown",
      "metadata": {
        "id": "taZ-as-0rnyk"
      },
      "source": [
        "## (1) 형태소 분석(Stemming)"
      ]
    },
    {
      "cell_type": "code",
      "metadata": {
        "id": "08Ac5RWAqIKO"
      },
      "source": [
        "pip install konlpy"
      ],
      "execution_count": null,
      "outputs": []
    },
    {
      "cell_type": "code",
      "metadata": {
        "id": "78KPZif6qBOF"
      },
      "source": [
        "# Kkma()\n",
        "from konlpy.tag import Kkma\n",
        "kkma = Kkma()\n",
        "\n",
        "sentence = '데이콘에서 다양한 컴피티션을 즐기면서 실력있는 데이터 분석가로 성장하세요!!.'\n",
        "\n",
        "print(\"형태소 단위로 문장 분리\")\n",
        "print(\"----------------------\")\n",
        "print(kkma.morphs(sentence))\n",
        "print(\" \")\n",
        "print(\"문장에서 명사 추출\")\n",
        "print(\"----------------------\")\n",
        "print(kkma.nouns(sentence))\n",
        "print(\" \")\n",
        "print(\"품사 태킹(PoS)\")\n",
        "print(\"----------------------\")\n",
        "print(kkma.pos(sentence))"
      ],
      "execution_count": null,
      "outputs": []
    },
    {
      "cell_type": "code",
      "metadata": {
        "id": "TNjbEHzwqB5e"
      },
      "source": [
        "#Okt()\n",
        "from konlpy.tag import Okt\n",
        "Okt = Okt()\n",
        "\n",
        "sentence = '데이콘에서 다양한 컴피티션을 즐기면서 실력있는 데이터 분석가로 성장하세요!!.'\n",
        "\n",
        "print(\"형태소 단위로 문장 분리\")\n",
        "print(\"----------------------\")\n",
        "print(Okt.morphs(sentence))\n",
        "print(\" \")\n",
        "print(\"문장에서 명사 추출\")\n",
        "print(\"----------------------\")\n",
        "print(Okt.nouns(sentence))\n",
        "print(\" \")\n",
        "print(\"품사 태킹(PoS)\")\n",
        "print(\"----------------------\")\n",
        "print(Okt.pos(sentence))"
      ],
      "execution_count": null,
      "outputs": []
    },
    {
      "cell_type": "markdown",
      "metadata": {
        "id": "kRMz6qKgrsu3"
      },
      "source": [
        "## (2) 표제어 추출(Lemmatization)"
      ]
    },
    {
      "cell_type": "code",
      "metadata": {
        "id": "qXRgUKVOqbRa"
      },
      "source": [
        "from konlpy.tag import Kkma\n",
        "kkma = Kkma()\n",
        "\n",
        "sentence = '성장했었다.'\n",
        "\n",
        "print(\"품사 태킹(PoS)\")\n",
        "print(\"----------------------\")\n",
        "print(kkma.pos(sentence))"
      ],
      "execution_count": null,
      "outputs": []
    },
    {
      "cell_type": "code",
      "metadata": {
        "id": "UIM1sBDwrzrt"
      },
      "source": [
        "sentence = '성장하였었다.'\n",
        "\n",
        "print(\"품사 태킹(PoS)\")\n",
        "print(\"----------------------\")\n",
        "print(kkma.pos(sentence))"
      ],
      "execution_count": null,
      "outputs": []
    },
    {
      "cell_type": "markdown",
      "metadata": {
        "id": "ZrMZHYs_r24d"
      },
      "source": [
        "## (3) 불용어 제거(Stopwords removing)"
      ]
    },
    {
      "cell_type": "code",
      "metadata": {
        "id": "xw4u3xf1r1FP"
      },
      "source": [
        "import re\n",
        "from konlpy.tag import Okt\n",
        "tokenizer = Okt()\n",
        "def text_preprocessing(text,tokenizer):\n",
        "    \n",
        "    stopwords = ['을', '를', '이', '가', '은', '는']\n",
        "    \n",
        "    txt = re.sub('[^가-힣a-z]', ' ', text)\n",
        "    token = tokenizer.morphs(txt)\n",
        "    token = [t for t in token if t not in stopwords]\n",
        "        \n",
        "    return token\n",
        "\n",
        "ex_text = \"이번에 새롭게 개봉한 영화의 배우들은 모두 훌륭한 연기력과 아름다운 목소리를 갖고 있어!!\"\n",
        "example_pre= text_preprocessing(ex_text,tokenizer)"
      ],
      "execution_count": null,
      "outputs": []
    },
    {
      "cell_type": "code",
      "metadata": {
        "id": "yZjGGR_Ar6l9"
      },
      "source": [
        "print(example_pre)"
      ],
      "execution_count": null,
      "outputs": []
    },
    {
      "cell_type": "markdown",
      "metadata": {
        "id": "I9TrBjR8sOLX"
      },
      "source": [
        "## (4) 대회 적용"
      ]
    },
    {
      "cell_type": "code",
      "metadata": {
        "id": "qAQ5rINSvOYl"
      },
      "source": [
        "import pandas as pd\n",
        "train = pd.read_csv('/content/drive/MyDrive/ESAA-2/0913_train.csv')"
      ],
      "execution_count": null,
      "outputs": []
    },
    {
      "cell_type": "code",
      "metadata": {
        "id": "qPnoMhfUvS0K"
      },
      "source": [
        "train.head()"
      ],
      "execution_count": null,
      "outputs": []
    },
    {
      "cell_type": "code",
      "metadata": {
        "id": "Ru3oVSDisLao"
      },
      "source": [
        "from konlpy.tag import Okt\n",
        "import re\n",
        "def text_preprocessing(text_list):\n",
        "    \n",
        "    stopwords = ['을', '를', '이', '가', '은', '는', 'null'] #불용어 설정\n",
        "    tokenizer = Okt() #형태소 분석기 \n",
        "    token_list = []\n",
        "    \n",
        "    for text in text_list:\n",
        "        txt = re.sub('[^가-힣a-z]', ' ', text) #한글과 영어 소문자만 남기고 다른 글자 모두 제거\n",
        "        token = tokenizer.morphs(txt) #형태소 분석\n",
        "        token = [t for t in token if t not in stopwords or type(t) != float] #형태소 분석 결과 중 stopwords에 해당하지 않는 것만 추출\n",
        "        token_list.append(token)\n",
        "        \n",
        "    return token_list, tokenizer\n",
        "\n",
        "#형태소 분석기를 따로 저장한 이유는 후에 test 데이터 전처리를 진행할 때 이용해야 되기 때문입니다. \n",
        "train['new_article'], okt = text_preprocessing(train['text']) "
      ],
      "execution_count": null,
      "outputs": []
    },
    {
      "cell_type": "code",
      "metadata": {
        "id": "t2duexDBwMXg"
      },
      "source": [
        "train.head()"
      ],
      "execution_count": null,
      "outputs": []
    },
    {
      "cell_type": "markdown",
      "metadata": {
        "id": "ZQdQKRtuwIDN"
      },
      "source": [
        "# 2. Vectorization"
      ]
    },
    {
      "cell_type": "code",
      "metadata": {
        "id": "XSrxp8vewHHF"
      },
      "source": [
        "from konlpy.tag import Okt\n",
        "import re\n",
        "\n",
        "Okt = Okt()\n",
        "\n",
        "sentences = ['자연어 처리는 정말 정말 즐거워.', '즐거운 자연어 처리 다같이 해보자.']\n",
        "tokens = []\n",
        "\n",
        "for sentence in sentences:\n",
        "    sentence = re.sub('[^가-힣a-z]', ' ', sentence) #간단한 전처리\n",
        "    token = (Okt.morphs(sentence)) #형태소 분석기를 이용햔 토큰 나누기\n",
        "    tokens.append(' '.join(token))\n",
        "\n",
        "print(\"형태소 단위로 문장 분리\")\n",
        "print(\"----------------------\")\n",
        "print(tokens)"
      ],
      "execution_count": null,
      "outputs": []
    },
    {
      "cell_type": "markdown",
      "metadata": {
        "id": "mZs_XhjpwZTh"
      },
      "source": [
        "## (1) One Hot Encoding"
      ]
    },
    {
      "cell_type": "code",
      "metadata": {
        "id": "Id-aLigSuMCu"
      },
      "source": [
        "from tensorflow.keras.preprocessing.text import Tokenizer\n",
        "from tensorflow.keras.utils import to_categorical\n",
        "\n",
        "t = Tokenizer()\n",
        "t.fit_on_texts(tokens)\n",
        "print(\"각 토큰에게 고유의 정수 부여\")\n",
        "print(\"----------------------\")\n",
        "print(t.word_index) \n",
        "print(\" \")\n",
        "\n",
        "s1=t.texts_to_sequences(tokens)[0] \n",
        "print(\"부여된 정수로 표시된 문장1\")\n",
        "print(\"----------------------\")\n",
        "print(s1)\n",
        "print(\" \")\n",
        "\n",
        "s2=t.texts_to_sequences(tokens)[1]\n",
        "print(\"부여된 정수로 표시된 문장2\")\n",
        "print(\"----------------------\")\n",
        "print(s2)\n",
        "print(\" \")\n",
        "\n",
        "s1_one_hot = to_categorical(s1)\n",
        "print(\"문장1의 one-hot-encoding\")\n",
        "print(\"----------------------\")\n",
        "print(s1_one_hot)\n",
        "print(\" \")\n",
        "\n",
        "s2_one_hot = to_categorical(s2)\n",
        "print(\"문장2의 one-hot-encoding\")\n",
        "print(\"----------------------\")\n",
        "print(s2_one_hot)"
      ],
      "execution_count": null,
      "outputs": []
    },
    {
      "cell_type": "markdown",
      "metadata": {
        "id": "1A8kLaXgwql0"
      },
      "source": [
        "## (2) Count Vectorization"
      ]
    },
    {
      "cell_type": "code",
      "metadata": {
        "id": "gF1k06O6wn_Q"
      },
      "source": [
        "from sklearn.feature_extraction.text import CountVectorizer\n",
        "vectorizer = CountVectorizer()\n",
        "vectors = vectorizer.fit_transform(tokens) #여러 개의 문장을 넣어줘야 작동합니다!!\n",
        "\n",
        "print(vectorizer.get_feature_names())\n",
        "print(vectors.toarray())"
      ],
      "execution_count": null,
      "outputs": []
    },
    {
      "cell_type": "markdown",
      "metadata": {
        "id": "-915cVi6w0V2"
      },
      "source": [
        "## (3) Tfldf"
      ]
    },
    {
      "cell_type": "code",
      "metadata": {
        "id": "hWKMJxFQwydj"
      },
      "source": [
        "from sklearn.feature_extraction.text import TfidfVectorizer\n",
        "\n",
        "tfidf = TfidfVectorizer(min_df=0)\n",
        "tfidf_vectorizer = tfidf.fit_transform(tokens) \n",
        "\n",
        "#tf-idf dictionary    \n",
        "tfidf_dict = tfidf.get_feature_names()\n",
        "print(tfidf_dict)\n",
        "print(tfidf_vectorizer.toarray())"
      ],
      "execution_count": null,
      "outputs": []
    },
    {
      "cell_type": "markdown",
      "metadata": {
        "id": "cPjVibCJw74z"
      },
      "source": [
        "## (4) 대회 적용"
      ]
    },
    {
      "cell_type": "code",
      "metadata": {
        "id": "52dfEuqpxEF-"
      },
      "source": [
        "import pandas as pd\n",
        "train = pd.read_csv('/content/drive/MyDrive/ESAA-2/0913_train.csv')"
      ],
      "execution_count": null,
      "outputs": []
    },
    {
      "cell_type": "code",
      "metadata": {
        "id": "cGMF-CP3w4Tl"
      },
      "source": [
        "from tensorflow.keras.preprocessing.text import Tokenizer\n",
        "from tensorflow.keras.preprocessing.sequence import pad_sequences\n",
        "\n",
        "def text2sequence(train_text, max_len=100):\n",
        "    \n",
        "    tokenizer = Tokenizer() #keras의 vectorizing 함수 호출\n",
        "    tokenizer.fit_on_texts(train_text) #train 문장에 fit\n",
        "    train_X_seq = tokenizer.texts_to_sequences(train_text) #각 토큰들에 정수 부여\n",
        "    vocab_size = len(tokenizer.word_index) + 1 #모델에 알려줄 vocabulary의 크기 계산\n",
        "    print('vocab_size : ', vocab_size)\n",
        "    X_train = pad_sequences(train_X_seq, maxlen = max_len) #설정한 문장의 최대 길이만큼 padding\n",
        "    \n",
        "    return X_train, vocab_size, tokenizer\n",
        "\n",
        "train_X, vocab_size, vectorizer = text2sequence(train['text'], max_len = 100)"
      ],
      "execution_count": null,
      "outputs": []
    },
    {
      "cell_type": "code",
      "metadata": {
        "id": "HhDhbXaexE6R"
      },
      "source": [
        "train_X"
      ],
      "execution_count": null,
      "outputs": []
    },
    {
      "cell_type": "markdown",
      "metadata": {
        "id": "_kHI9x0KxTFA"
      },
      "source": [
        "# 3. Facebook의 fasttext를 이용한 text classification"
      ]
    },
    {
      "cell_type": "code",
      "metadata": {
        "id": "9wiiUgOdyPHZ"
      },
      "source": [
        "pip install fasttext"
      ],
      "execution_count": null,
      "outputs": []
    },
    {
      "cell_type": "code",
      "metadata": {
        "id": "_ejxlu0zxNzU"
      },
      "source": [
        "import fasttext\n",
        "\n",
        "# # Word Representation\n",
        "# # Skipgram model :\n",
        "# skip_model = fasttext.train_unsupervised('./author.txt', model='skipgram')\n",
        "# skip_model.save_model(\"skip_model.bin\")\n",
        "# print(skip_model.words)\n",
        "# # or, cbow model :\n",
        "# cbow_model = fasttext.train_unsupervised('./author.txt', model='cbow')\n",
        "# cbow_model.save_model(\"cbow_model.bin\")\n",
        "# print(cbow_model.words)\n",
        "\n",
        "#  디폴트로 돌리면 0.56\n",
        "\n",
        "import pandas as pd\n",
        "import numpy as np\n",
        "\n",
        "train = pd.read_csv('/content/drive/MyDrive/ESAA-2/0913_train.csv')\n",
        "\n",
        "file = open('fasttexttrain.txt','w+')\n",
        "for i in train.index:\n",
        "    line = '__label__' + str(train['author'][i])+' '+train['text'][i]\n",
        "    file.write(line+\"\\n\")\n",
        "\n",
        "# Text Classification\n",
        "# input             # training file path (required)\n",
        "# model             # unsupervised fasttext model {cbow, skipgram} [skipgram]\n",
        "# lr                # learning rate [0.05]\n",
        "# dim               # size of word vectors [100]\n",
        "# ws                # size of the context window [5]\n",
        "# epoch             # number of epochs [5]\n",
        "# minCount          # minimal number of word occurences [5]\n",
        "# minn              # min length of char ngram [3]\n",
        "# maxn              # max length of char ngram [6]\n",
        "# neg               # number of negatives sampled [5]\n",
        "# wordNgrams        # max length of word ngram [1]\n",
        "# loss              # loss function {ns, hs, softmax, ova} [ns]\n",
        "# bucket            # number of buckets [2000000]\n",
        "# thread            # number of threads [number of cpus]\n",
        "# lrUpdateRate      # change the rate of updates for the learning rate [100]\n",
        "# t                 # sampling threshold [0.0001]\n",
        "# verbose           # verbose [2]\n",
        "\n",
        "text_clf_model = fasttext.train_supervised('fasttexttrain.txt')\n",
        "print(text_clf_model.words)\n",
        "print(text_clf_model.labels)\n",
        "\n",
        "reuslt = text_clf_model.predict(\"He was almost choking. There was so much, so much he wanted to say, but strange exclamations were all that came from his lips. The Pole gazed fixedly at him, at the bundle of notes in his hand; looked at odin, and was in evident perplexity.\", k=5)\n",
        "print(reuslt)\n",
        "\n",
        "test = pd.read_csv('/content/drive/MyDrive/ESAA-2/0913_test_x.csv')\n",
        "submission = pd.read_csv('/content/drive/MyDrive/ESAA-2/0913_sample_submission.csv', index_col=False)"
      ],
      "execution_count": null,
      "outputs": []
    },
    {
      "cell_type": "code",
      "metadata": {
        "id": "uHsIpUlByvTE"
      },
      "source": [
        "for i in test.index:\n",
        "    lable, proba = text_clf_model.predict(test['text'][i], k=5)\n",
        "    for la, pr in zip(lable, proba):\n",
        "        if '__label__0' == la:\n",
        "            submission.loc[i, '0'] = pr\n",
        "        elif '__label__1' == la:\n",
        "            submission.loc[i, '1'] = pr\n",
        "        elif '__label__2' == la:\n",
        "            submission.loc[i, '2'] = pr\n",
        "        elif '__label__3' == la:\n",
        "            submission.loc[i, '3'] = pr\n",
        "        elif '__label__4' == la:\n",
        "            submission.loc[i, '4'] = pr\n",
        "    # submission.loc[i, '0'] = proba[lable.loc('__label__0')]\n",
        "    # submission.loc[i, '1'] = proba[4]\n",
        "    # submission.loc[i, '2'] = proba[2]\n",
        "    # submission.loc[i, '3'] = proba[0]\n",
        "    # submission.loc[i, '4'] = proba[3]\n",
        "\n",
        "submission.to_csv('result5_fasttext.csv', index=False)\n",
        "print('end')"
      ],
      "execution_count": null,
      "outputs": []
    }
  ]
}